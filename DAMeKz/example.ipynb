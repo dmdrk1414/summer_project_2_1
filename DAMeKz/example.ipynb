{
 "cells": [
  {
   "cell_type": "code",
   "execution_count": 1,
   "metadata": {},
   "outputs": [
    {
     "name": "stdout",
     "output_type": "stream",
     "text": [
      "https://entertain.naver.com/read?oid=117&aid=0003629345\n",
      "'유세풍' 김상경 \"세종대왕 역할만 두 번했는데 갑자기 중인\"\n",
      "\t\t\n",
      "[]\n"
     ]
    },
    {
     "ename": "AttributeError",
     "evalue": "ResultSet object has no attribute 'find_all'. You're probably treating a list of elements like a single element. Did you call find_all() when you meant to call find()?",
     "output_type": "error",
     "traceback": [
      "\u001b[0;31m---------------------------------------------------------------------------\u001b[0m",
      "\u001b[0;31mAttributeError\u001b[0m                            Traceback (most recent call last)",
      "\u001b[1;32m/Users/damekz/Documents/Study/Project/summer_project_2_1/DAMeKz/example.ipynb Cell 1'\u001b[0m in \u001b[0;36m<cell line: 3>\u001b[0;34m()\u001b[0m\n\u001b[1;32m      <a href='vscode-notebook-cell:/Users/damekz/Documents/Study/Project/summer_project_2_1/DAMeKz/example.ipynb#ch0000019?line=0'>1</a>\u001b[0m \u001b[39mfrom\u001b[39;00m \u001b[39mtools\u001b[39;00m \u001b[39mimport\u001b[39;00m main\n\u001b[0;32m----> <a href='vscode-notebook-cell:/Users/damekz/Documents/Study/Project/summer_project_2_1/DAMeKz/example.ipynb#ch0000019?line=2'>3</a>\u001b[0m main()\n",
      "File \u001b[0;32m~/Documents/Study/Project/summer_project_2_1/DAMeKz/tools.py:95\u001b[0m, in \u001b[0;36mmain\u001b[0;34m()\u001b[0m\n\u001b[1;32m     93\u001b[0m title \u001b[39m=\u001b[39m get_title(url)\n\u001b[1;32m     94\u001b[0m \u001b[39mprint\u001b[39m(title)\n\u001b[0;32m---> 95\u001b[0m contents \u001b[39m=\u001b[39m get_contents(url)\n\u001b[1;32m     96\u001b[0m \u001b[39mprint\u001b[39m(contents)\n",
      "File \u001b[0;32m~/Documents/Study/Project/summer_project_2_1/DAMeKz/tools.py:70\u001b[0m, in \u001b[0;36mget_contents\u001b[0;34m(url)\u001b[0m\n\u001b[1;32m     67\u001b[0m contents \u001b[39m=\u001b[39m extract_info(url, ARTICLE_CONTENTS_TAGS \u001b[39m+\u001b[39m \u001b[39m'\u001b[39m\u001b[39m > .article_body font1 size3 > .class_div_main image\u001b[39m\u001b[39m'\u001b[39m)\n\u001b[1;32m     68\u001b[0m \u001b[39mprint\u001b[39m(contents)\n\u001b[0;32m---> 70\u001b[0m \u001b[39mfor\u001b[39;00m child \u001b[39min\u001b[39;00m contents\u001b[39m.\u001b[39;49mfind_all():\n\u001b[1;32m     71\u001b[0m     \u001b[39mif\u001b[39;00m child\u001b[39m.\u001b[39mname \u001b[39m!=\u001b[39m \u001b[39m\"\u001b[39m\u001b[39mbr\u001b[39m\u001b[39m\"\u001b[39m:\n\u001b[1;32m     72\u001b[0m         child\u001b[39m.\u001b[39mclear()\n",
      "File \u001b[0;32m~/miniforge3/envs/AI/lib/python3.10/site-packages/bs4/element.py:2289\u001b[0m, in \u001b[0;36mResultSet.__getattr__\u001b[0;34m(self, key)\u001b[0m\n\u001b[1;32m   2287\u001b[0m \u001b[39mdef\u001b[39;00m \u001b[39m__getattr__\u001b[39m(\u001b[39mself\u001b[39m, key):\n\u001b[1;32m   2288\u001b[0m     \u001b[39m\"\"\"Raise a helpful exception to explain a common code fix.\"\"\"\u001b[39;00m\n\u001b[0;32m-> 2289\u001b[0m     \u001b[39mraise\u001b[39;00m \u001b[39mAttributeError\u001b[39;00m(\n\u001b[1;32m   2290\u001b[0m         \u001b[39m\"\u001b[39m\u001b[39mResultSet object has no attribute \u001b[39m\u001b[39m'\u001b[39m\u001b[39m%s\u001b[39;00m\u001b[39m'\u001b[39m\u001b[39m. You\u001b[39m\u001b[39m'\u001b[39m\u001b[39mre probably treating a list of elements like a single element. Did you call find_all() when you meant to call find()?\u001b[39m\u001b[39m\"\u001b[39m \u001b[39m%\u001b[39m key\n\u001b[1;32m   2291\u001b[0m     )\n",
      "\u001b[0;31mAttributeError\u001b[0m: ResultSet object has no attribute 'find_all'. You're probably treating a list of elements like a single element. Did you call find_all() when you meant to call find()?"
     ]
    }
   ],
   "source": [
    "from tools import main\n",
    "\n",
    "main()"
   ]
  },
  {
   "cell_type": "code",
   "execution_count": 3,
   "metadata": {},
   "outputs": [],
   "source": [
    "\n",
    "import json\n",
    "from tkinter.ttk import Separator\n",
    "from urllib.request import urlopen\n",
    "from bs4 import BeautifulSoup, SoupStrainer\n",
    "import requests, lxml\n",
    "import random \n",
    "import re \n",
    "\n",
    "NAVER_BASE_URL = 'https://entertain.naver.com'\n",
    "NAVER_READ_URL = NAVER_BASE_URL + '/home'\n",
    "\n",
    "ARTICLE_URL_TAGS = '#ent_body > #wrap > #content > .ct_wrp > .left_cont > .home_hdline_grid > .hdline_type_lst > .lst_item > .thumb_area'\n",
    "ARTICLE_BASE_TAGS = '#ent_body > #wrap > #content > .end_ct > .end_ct_area'\n",
    "ARTICLE_CONTENTS_TAGS = ARTICLE_BASE_TAGS + '> .end_body_wrp'\n",
    "\n",
    "\n",
    "def write_to_json(resource):\n",
    "    with open('data.json','w') as f:\n",
    "        json.dump(resource, f)\n",
    "\n",
    "\n",
    "def extract_info(url, select_tag=None):\n",
    "    if requests.get(url).status_code == 200:\n",
    "        html = urlopen(url)\n",
    "        soup = BeautifulSoup(html, 'html.parser')\n",
    "        info = soup.select(select_tag)\n",
    "    return info    \n",
    "\n",
    "def get_url(): \n",
    "    news_info = extract_info(NAVER_READ_URL, ARTICLE_URL_TAGS)\n",
    "    news_id_list = [data['href']for data in news_info]\n",
    "    news_url_list = [NAVER_BASE_URL +  id for id in news_id_list]\n",
    "    \n",
    "    return news_url_list\n",
    "\n"
   ]
  },
  {
   "cell_type": "code",
   "execution_count": 4,
   "metadata": {},
   "outputs": [],
   "source": [
    "url_list = get_url()\n",
    "ran_ind = random.randrange(0,2)\n",
    "url = url_list[ran_ind]"
   ]
  },
  {
   "cell_type": "code",
   "execution_count": 6,
   "metadata": {},
   "outputs": [
    {
     "name": "stdout",
     "output_type": "stream",
     "text": [
      "Contents\n",
      "\n"
     ]
    },
    {
     "name": "stderr",
     "output_type": "stream",
     "text": [
      "/Users/damekz/miniforge3/envs/AI/lib/python3.10/site-packages/bs4/__init__.py:404: MarkupResemblesLocatorWarning: The input looks more like a URL than markup. You may want to use an HTTP client like requests to get the document behind the URL, and feed that document to Beautiful Soup.\n",
      "  warnings.warn(\n"
     ]
    }
   ],
   "source": [
    "strainer = SoupStrainer('div',{'id':'articeBody'})\n",
    "contents = BeautifulSoup(url,\"lxml\",parse_only=strainer)\n",
    "print('Contents')\n",
    "print(contents)\n",
    "if contents is None:\n",
    "    raise ValueError(\"There is no any news article contents.\")\n",
    "\n",
    "for child in contents.find_all():\n",
    "    if child.name != \"br\":\n",
    "        child.clear()\n",
    "\n",
    "contents = contents.get_text(separator=\"\\n\").strip()\n",
    "contents = \"\\n\".join([line.strip() for line in contents.splitlines() if line.strip()])"
   ]
  },
  {
   "cell_type": "code",
   "execution_count": 5,
   "metadata": {},
   "outputs": [
    {
     "name": "stdout",
     "output_type": "stream",
     "text": [
      "[]\n"
     ]
    },
    {
     "ename": "AttributeError",
     "evalue": "ResultSet object has no attribute 'find_all'. You're probably treating a list of elements like a single element. Did you call find_all() when you meant to call find()?",
     "output_type": "error",
     "traceback": [
      "\u001b[0;31m---------------------------------------------------------------------------\u001b[0m",
      "\u001b[0;31mAttributeError\u001b[0m                            Traceback (most recent call last)",
      "\u001b[1;32m/Users/damekz/Documents/Study/Project/summer_project_2_1/DAMeKz/example.ipynb Cell 4'\u001b[0m in \u001b[0;36m<cell line: 4>\u001b[0;34m()\u001b[0m\n\u001b[1;32m      <a href='vscode-notebook-cell:/Users/damekz/Documents/Study/Project/summer_project_2_1/DAMeKz/example.ipynb#ch0000024?line=1'>2</a>\u001b[0m contents \u001b[39m=\u001b[39m extract_info(url, ARTICLE_CONTENTS_TAGS \u001b[39m+\u001b[39m \u001b[39m'\u001b[39m\u001b[39m > .article_body font1 size3 > .class_div_main image\u001b[39m\u001b[39m'\u001b[39m)\n\u001b[1;32m      <a href='vscode-notebook-cell:/Users/damekz/Documents/Study/Project/summer_project_2_1/DAMeKz/example.ipynb#ch0000024?line=2'>3</a>\u001b[0m \u001b[39mprint\u001b[39m(contents)\n\u001b[0;32m----> <a href='vscode-notebook-cell:/Users/damekz/Documents/Study/Project/summer_project_2_1/DAMeKz/example.ipynb#ch0000024?line=3'>4</a>\u001b[0m \u001b[39mfor\u001b[39;00m child \u001b[39min\u001b[39;00m contents\u001b[39m.\u001b[39;49mfind_all():\n\u001b[1;32m      <a href='vscode-notebook-cell:/Users/damekz/Documents/Study/Project/summer_project_2_1/DAMeKz/example.ipynb#ch0000024?line=4'>5</a>\u001b[0m     \u001b[39mif\u001b[39;00m child\u001b[39m.\u001b[39mname \u001b[39m!=\u001b[39m \u001b[39m\"\u001b[39m\u001b[39mbr\u001b[39m\u001b[39m\"\u001b[39m:\n\u001b[1;32m      <a href='vscode-notebook-cell:/Users/damekz/Documents/Study/Project/summer_project_2_1/DAMeKz/example.ipynb#ch0000024?line=5'>6</a>\u001b[0m         child\u001b[39m.\u001b[39mclear()\n",
      "File \u001b[0;32m~/miniforge3/envs/AI/lib/python3.10/site-packages/bs4/element.py:2289\u001b[0m, in \u001b[0;36mResultSet.__getattr__\u001b[0;34m(self, key)\u001b[0m\n\u001b[1;32m   2287\u001b[0m \u001b[39mdef\u001b[39;00m \u001b[39m__getattr__\u001b[39m(\u001b[39mself\u001b[39m, key):\n\u001b[1;32m   2288\u001b[0m     \u001b[39m\"\"\"Raise a helpful exception to explain a common code fix.\"\"\"\u001b[39;00m\n\u001b[0;32m-> 2289\u001b[0m     \u001b[39mraise\u001b[39;00m \u001b[39mAttributeError\u001b[39;00m(\n\u001b[1;32m   2290\u001b[0m         \u001b[39m\"\u001b[39m\u001b[39mResultSet object has no attribute \u001b[39m\u001b[39m'\u001b[39m\u001b[39m%s\u001b[39;00m\u001b[39m'\u001b[39m\u001b[39m. You\u001b[39m\u001b[39m'\u001b[39m\u001b[39mre probably treating a list of elements like a single element. Did you call find_all() when you meant to call find()?\u001b[39m\u001b[39m\"\u001b[39m \u001b[39m%\u001b[39m key\n\u001b[1;32m   2291\u001b[0m     )\n",
      "\u001b[0;31mAttributeError\u001b[0m: ResultSet object has no attribute 'find_all'. You're probably treating a list of elements like a single element. Did you call find_all() when you meant to call find()?"
     ]
    }
   ],
   "source": [
    "# contents_list = []\n",
    "contents = extract_info(url, ARTICLE_CONTENTS_TAGS + ' > .article_body font1 size3 > .class_div_main image')\n",
    "print(contents)\n",
    "for child in contents.find_all():\n",
    "    if child.name != \"br\":\n",
    "        child.clear()\n",
    "\n",
    "contents = contents.get_text(Separator=\"\\n\").strip()\n",
    "contents = \"\\n\".join([line.strip() for line in contents.splitlines() if line.strip()])"
   ]
  },
  {
   "cell_type": "code",
   "execution_count": null,
   "metadata": {},
   "outputs": [],
   "source": []
  }
 ],
 "metadata": {
  "kernelspec": {
   "display_name": "Python 3.10.5 ('AI')",
   "language": "python",
   "name": "python3"
  },
  "language_info": {
   "codemirror_mode": {
    "name": "ipython",
    "version": 3
   },
   "file_extension": ".py",
   "mimetype": "text/x-python",
   "name": "python",
   "nbconvert_exporter": "python",
   "pygments_lexer": "ipython3",
   "version": "3.10.5"
  },
  "orig_nbformat": 4,
  "vscode": {
   "interpreter": {
    "hash": "3b24a430ab4e7fea4e31b0aa0413005153232b53a75d1f2f202402ded1d06e3e"
   }
  }
 },
 "nbformat": 4,
 "nbformat_minor": 2
}
